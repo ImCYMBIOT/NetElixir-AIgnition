{
  "nbformat": 4,
  "nbformat_minor": 0,
  "metadata": {
    "colab": {
      "provenance": [],
      "gpuType": "T4",
      "authorship_tag": "ABX9TyOL7EcAjW70+8YKppQBoobf",
      "include_colab_link": true
    },
    "kernelspec": {
      "name": "python3",
      "display_name": "Python 3"
    },
    "language_info": {
      "name": "python"
    },
    "accelerator": "GPU"
  },
  "cells": [
    {
      "cell_type": "markdown",
      "metadata": {
        "id": "view-in-github",
        "colab_type": "text"
      },
      "source": [
        "<a href=\"https://colab.research.google.com/github/ImCYMBIOT/NetElixir-AIgnition/blob/main/AIAdBudgetAllocator.ipynb\" target=\"_parent\"><img src=\"https://colab.research.google.com/assets/colab-badge.svg\" alt=\"Open In Colab\"/></a>"
      ]
    },
    {
      "cell_type": "markdown",
      "source": [
        "### Mount Google Drive"
      ],
      "metadata": {
        "id": "0FzbGElqIHlK"
      }
    },
    {
      "cell_type": "code",
      "execution_count": 9,
      "metadata": {
        "id": "kGFAk6sx6Q6W",
        "colab": {
          "base_uri": "https://localhost:8080/"
        },
        "outputId": "97a1fae9-2f36-4eb2-a11d-fe7edc46caba"
      },
      "outputs": [
        {
          "output_type": "stream",
          "name": "stdout",
          "text": [
            "Drive already mounted at /content/drive; to attempt to forcibly remount, call drive.mount(\"/content/drive\", force_remount=True).\n"
          ]
        }
      ],
      "source": [
        "\n",
        "from google.colab import drive\n",
        "import pandas as pd\n",
        "import os\n",
        "\n",
        "drive.mount('/content/drive')"
      ]
    },
    {
      "cell_type": "markdown",
      "source": [
        "#### Define the path to your datasets"
      ],
      "metadata": {
        "id": "1PToQEJsIQSE"
      }
    },
    {
      "cell_type": "code",
      "source": [
        "# Define the path to your datasets\n",
        "data_dir1 = '/content/drive/My Drive/NetelixirDatasets/Netelixir AIgnition Dataset 1'\n",
        "data_dir2 = '/content/drive/My Drive/NetelixirDatasets/Netelixir AIgnition Dataset 2'\n",
        "\n",
        "# Load datasets\n",
        "def load_datasets(data_dir):\n",
        "    datasets = {}\n",
        "    for file_name in os.listdir(data_dir):\n",
        "        if file_name.endswith('.csv'):\n",
        "            datasets[file_name] = pd.read_csv(os.path.join(data_dir, file_name))\n",
        "    return datasets\n",
        "\n",
        "datasets1 = load_datasets(data_dir1)\n",
        "datasets2 = load_datasets(data_dir2)\n"
      ],
      "metadata": {
        "id": "36BNOBCaHgc0"
      },
      "execution_count": 10,
      "outputs": []
    },
    {
      "cell_type": "markdown",
      "source": [
        "### Display the first few rows of each dataset"
      ],
      "metadata": {
        "id": "wo8iIfiKH-Ay"
      }
    },
    {
      "cell_type": "code",
      "source": [
        "# Example: Display the first few rows of each dataset\n",
        "for name, df in datasets1.items():\n",
        "    print(f\"{name} (Dataset 1):\")\n",
        "    print(df.head())\n",
        "    print()\n",
        "\n",
        "for name, df in datasets2.items():\n",
        "    print(f\"{name} (Dataset 2):\")\n",
        "    print(df.head())\n",
        "    print()\n",
        "\n"
      ],
      "metadata": {
        "colab": {
          "base_uri": "https://localhost:8080/"
        },
        "id": "hGq4ZeBsHq_l",
        "outputId": "4efe7b9f-403f-4b5b-96f5-a722ee211745"
      },
      "execution_count": 11,
      "outputs": [
        {
          "output_type": "stream",
          "name": "stdout",
          "text": [
            "googleads-performance.csv (Dataset 1):\n",
            "         Date    Campaign type  Impressions  Clicks    Cost  Conversions  \\\n",
            "0  2024-01-01    Cross-network     143669.0   896.0   656.3          6.5   \n",
            "1  2024-01-01  Display Network          3.0     0.0     0.0          0.0   \n",
            "2  2024-01-01   Search Network       3701.0   251.0   496.5          4.5   \n",
            "3  2024-01-01          YouTube      36211.0     8.0   115.2          0.0   \n",
            "4  2024-01-02    Cross-network     183496.0  1172.0  1525.0          8.8   \n",
            "\n",
            "   Revenue  \n",
            "0   1410.3  \n",
            "1      0.0  \n",
            "2    576.4  \n",
            "3      0.0  \n",
            "4   3565.7  \n",
            "\n",
            "microsoftads-performance.csv (Dataset 1):\n",
            "         Date     Campaign type  Impressions  Clicks   Cost  Conversions  \\\n",
            "0  2024-01-01          Audience       9132.0    50.0   26.8          0.0   \n",
            "1  2024-01-01   Performance max        897.0     9.0    7.0          0.0   \n",
            "2  2024-01-01  Search & content      95977.0   561.0  846.5          1.0   \n",
            "3  2024-01-01          Shopping      59860.0   343.0  215.2          1.0   \n",
            "4  2024-01-02          Audience       9926.0    49.0   25.9          0.0   \n",
            "\n",
            "   Revenue  \n",
            "0      0.0  \n",
            "1      0.0  \n",
            "2    168.8  \n",
            "3    143.5  \n",
            "4      0.0  \n",
            "\n",
            "metaads-performance.csv (Dataset 1):\n",
            "         Date  Impressions    Reach   Cost  Clicks  Conversions  Revenue\n",
            "0  2024-01-01      36034.0  27263.0  209.1   608.0          4.0    158.2\n",
            "1  2024-01-02      30804.0  22648.0  204.9   516.0         11.0   1412.8\n",
            "2  2024-01-03      26372.0  18947.0  198.7   429.0          4.0    371.5\n",
            "3  2024-01-04      17354.0  11436.0  131.2   324.0          4.0      0.0\n",
            "4  2024-01-05      12036.0   7921.0  114.0   224.0          2.0      0.0\n",
            "\n",
            "website-landings.csv (Dataset 1):\n",
            "    User Id Website Landing Time  Is Converted Source Channel Campaign Type\n",
            "0  20a70111  2024-02-29 01:57:19             0    NaN  direct           NaN\n",
            "1  20a70111  2024-02-29 13:58:10             0    NaN  direct           NaN\n",
            "2  58830f30  2024-01-18 13:22:58             0    NaN  direct           NaN\n",
            "3  58830f30  2024-01-19 16:19:37             0    NaN  direct           NaN\n",
            "4  58830f30  2024-01-22 13:33:16             0    NaN  direct           NaN\n",
            "\n",
            "googlead-performance.csv (Dataset 2):\n",
            "         Date    Campaign type  Impressions  Clicks    Cost  Conversions  \\\n",
            "0  2024-01-01    Cross-network     216382.0  2765.0  1957.4        136.1   \n",
            "1  2024-01-01  Display Network       3873.0    85.0    27.2          1.0   \n",
            "2  2024-01-01   Search Network       6856.0   753.0   917.3         54.7   \n",
            "3  2024-01-02    Cross-network     236636.0  2750.0  2055.9        148.9   \n",
            "4  2024-01-02  Display Network       5030.0    96.0    26.7          0.8   \n",
            "\n",
            "   Revenue  \n",
            "0  17835.5  \n",
            "1     84.6  \n",
            "2   8777.1  \n",
            "3  19639.5  \n",
            "4     91.2  \n",
            "\n",
            "microsoftads-performance.csv (Dataset 2):\n",
            "         Date     Campaign type  Impressions  Clicks   Cost  Conversions  \\\n",
            "0  2024-01-01  Search & content        831.0   100.0  108.6         15.0   \n",
            "1  2024-01-01          Shopping      20128.0   316.0  149.0         13.0   \n",
            "2  2024-01-02  Search & content       1069.0   163.0  188.4         26.0   \n",
            "3  2024-01-02          Shopping      31540.0   366.0  166.9         11.0   \n",
            "4  2024-01-03  Search & content        960.0   153.0  180.7         22.0   \n",
            "\n",
            "   Revenue  \n",
            "0   2240.6  \n",
            "1   2364.3  \n",
            "2   4383.0  \n",
            "3    423.6  \n",
            "4   3035.6  \n",
            "\n",
            "metaads-performance.csv (Dataset 2):\n",
            "         Date  Impressions   Reach  Cost  Clicks  Conversions  Revenue\n",
            "0  2024-01-01      11560.0  7851.0  66.5   415.0          8.0   2258.3\n",
            "1  2024-01-02       9674.0  6278.0  64.3   320.0         11.0   1894.2\n",
            "2  2024-01-03       8640.0  5414.0  63.4   276.0         12.0   1808.1\n",
            "3  2024-01-04       9057.0  5798.0  62.6   309.0          6.0   1962.0\n",
            "4  2024-01-05       9448.0  6120.0  61.7   282.0          8.0   1763.5\n",
            "\n",
            "website-landings.csv (Dataset 2):\n",
            "    User Id Website Landing Time  Is Converted  Source         Channel  \\\n",
            "0  f7093a95  2024-02-02 01:19:03             0  google  organic search   \n",
            "1  f7093a95  2024-02-20 17:53:27             0  google  organic search   \n",
            "2  f7093a95  2024-03-03 04:51:34             0  google  organic search   \n",
            "3  f7093a95  2024-04-23 04:28:26             0     NaN          direct   \n",
            "4  f7093a95  2024-04-23 04:29:56             0     NaN          direct   \n",
            "\n",
            "  Campaign Type  \n",
            "0           NaN  \n",
            "1           NaN  \n",
            "2           NaN  \n",
            "3           NaN  \n",
            "4           NaN  \n",
            "\n"
          ]
        }
      ]
    },
    {
      "cell_type": "markdown",
      "source": [
        "### Perform Data Analysis"
      ],
      "metadata": {
        "id": "a7erYqIxLPff"
      }
    },
    {
      "cell_type": "code",
      "source": [
        "\n",
        "def analyze_data(datasets):\n",
        "    for name, df in datasets.items():\n",
        "        print(f\"Analysis for {name}:\")\n",
        "        print(\"Describe:\", df.describe())\n",
        "        print()\n",
        "\n",
        "analyze_data(datasets1)\n",
        "analyze_data(datasets2)\n"
      ],
      "metadata": {
        "colab": {
          "base_uri": "https://localhost:8080/"
        },
        "id": "vAYVXJ-ZLOUU",
        "outputId": "d89a4cd5-ec23-432e-e21e-b51f82db8faf"
      },
      "execution_count": 12,
      "outputs": [
        {
          "output_type": "stream",
          "name": "stdout",
          "text": [
            "Analysis for googleads-performance.csv:\n",
            "Describe:          Impressions       Clicks         Cost  Conversions       Revenue\n",
            "count     714.000000   714.000000   714.000000   714.000000    714.000000\n",
            "mean   103249.289916   668.372549  1194.405182    19.543697   4380.389916\n",
            "std    169925.328248   925.830005  1457.968112    23.106973   5466.346579\n",
            "min         1.000000     0.000000     0.000000     0.000000      0.000000\n",
            "25%      3614.500000     0.000000    54.600000     0.000000      0.000000\n",
            "50%     14576.500000   225.500000   414.850000     6.500000   1126.150000\n",
            "75%    101861.000000   870.750000  2127.500000    38.975000   8763.650000\n",
            "max    698237.000000  3690.000000  6218.300000    90.200000  24422.700000\n",
            "\n",
            "Analysis for microsoftads-performance.csv:\n",
            "Describe:          Impressions       Clicks         Cost  Conversions      Revenue\n",
            "count     721.000000   721.000000   721.000000   721.000000   721.000000\n",
            "mean    45503.911234   227.690707   260.636338     4.460472   685.468516\n",
            "std     49950.280514   220.703786   322.331634     5.494836   926.238756\n",
            "min         0.000000     0.000000     0.000000     0.000000     0.000000\n",
            "25%      7699.000000    45.000000    23.600000     0.000000     0.000000\n",
            "50%     28840.000000   178.000000   131.400000     2.000000   253.100000\n",
            "75%     72902.000000   398.000000   406.700000     7.000000  1050.700000\n",
            "max    400462.000000  1384.000000  1129.800000    32.000000  5189.900000\n",
            "\n",
            "Analysis for metaads-performance.csv:\n",
            "Describe:         Impressions         Reach        Cost      Clicks  Conversions  \\\n",
            "count    182.000000    182.000000  182.000000  182.000000   182.000000   \n",
            "mean   15710.483516  10706.549451  108.128571  254.164835    15.357143   \n",
            "std     4276.750942   3191.183957   34.980520   84.927628    14.458129   \n",
            "min     7024.000000   4724.000000   62.800000   96.000000     0.000000   \n",
            "25%    12885.250000   8376.000000   82.775000  188.000000     4.000000   \n",
            "50%    15307.500000  10443.000000  104.950000  242.500000     9.000000   \n",
            "75%    17921.750000  11844.500000  115.375000  309.750000    24.000000   \n",
            "max    36034.000000  27263.000000  223.600000  608.000000    71.000000   \n",
            "\n",
            "            Revenue  \n",
            "count    182.000000  \n",
            "mean    2738.712637  \n",
            "std     3049.637405  \n",
            "min        0.000000  \n",
            "25%      433.650000  \n",
            "50%     1859.500000  \n",
            "75%     3985.475000  \n",
            "max    19098.600000  \n",
            "\n",
            "Analysis for website-landings.csv:\n",
            "Describe:        Is Converted\n",
            "count  1.586314e+06\n",
            "mean   1.854929e-02\n",
            "std    1.349267e-01\n",
            "min    0.000000e+00\n",
            "25%    0.000000e+00\n",
            "50%    0.000000e+00\n",
            "75%    0.000000e+00\n",
            "max    1.000000e+00\n",
            "\n",
            "Analysis for googlead-performance.csv:\n",
            "Describe:          Impressions        Clicks         Cost  Conversions       Revenue\n",
            "count     470.000000    470.000000   470.000000   470.000000    470.000000\n",
            "mean    83660.123404   1283.489362  1055.711702    76.038298  11733.801489\n",
            "std    104072.597175   1132.614988   835.493118    54.224895   7871.955734\n",
            "min       800.000000     29.000000     4.600000     0.000000      0.000000\n",
            "25%      5074.750000    668.500000   553.350000    43.200000   6980.750000\n",
            "50%      8438.500000    867.000000   907.200000    73.250000  12625.800000\n",
            "75%    181967.750000   2072.500000  1549.275000   112.250000  16930.125000\n",
            "max    502368.000000  13429.000000  3646.400000   213.900000  33528.200000\n",
            "\n",
            "Analysis for microsoftads-performance.csv:\n",
            "Describe:         Impressions      Clicks        Cost  Conversions       Revenue\n",
            "count    364.000000  364.000000  364.000000   364.000000    364.000000\n",
            "mean   10195.065934  180.445055  139.566209    12.445055   1983.526923\n",
            "std    11446.766359  102.783571   85.522881     6.715366   1725.411177\n",
            "min       87.000000    4.000000    9.000000     0.000000      0.000000\n",
            "25%      763.750000  117.000000   99.900000     8.000000    769.450000\n",
            "50%     6271.000000  160.000000  126.450000    12.000000   1500.150000\n",
            "75%    17203.250000  229.250000  165.925000    16.000000   2698.400000\n",
            "max    63625.000000  675.000000  701.500000    38.000000  10654.100000\n",
            "\n",
            "Analysis for metaads-performance.csv:\n",
            "Describe:         Impressions         Reach        Cost       Clicks  Conversions  \\\n",
            "count    182.000000    182.000000  182.000000   182.000000   182.000000   \n",
            "mean   19224.296703  11609.483516  119.944505   396.857143    15.604396   \n",
            "std     7212.517890   4477.203274   54.150595   206.873708    10.520046   \n",
            "min     6956.000000   4587.000000   22.300000    91.000000     0.000000   \n",
            "25%    13712.000000   7609.750000   95.575000   282.000000     8.000000   \n",
            "50%    19003.000000  11449.000000  109.900000   362.000000    14.000000   \n",
            "75%    23806.250000  15027.250000  126.900000   451.750000    20.000000   \n",
            "max    43544.000000  25180.000000  332.000000  1374.000000    52.000000   \n",
            "\n",
            "           Revenue  \n",
            "count   182.000000  \n",
            "mean   2900.750549  \n",
            "std    2337.057755  \n",
            "min       0.000000  \n",
            "25%    1316.675000  \n",
            "50%    2169.550000  \n",
            "75%    4076.625000  \n",
            "max    9149.700000  \n",
            "\n",
            "Analysis for website-landings.csv:\n",
            "Describe:        Is Converted\n",
            "count  2.913111e+06\n",
            "mean   2.072080e-02\n",
            "std    1.424481e-01\n",
            "min    0.000000e+00\n",
            "25%    0.000000e+00\n",
            "50%    0.000000e+00\n",
            "75%    0.000000e+00\n",
            "max    1.000000e+00\n",
            "\n"
          ]
        }
      ]
    },
    {
      "cell_type": "markdown",
      "source": [
        "### Machine Learning Analysis"
      ],
      "metadata": {
        "id": "awhVkMPgHzRw"
      }
    },
    {
      "cell_type": "code",
      "source": [
        "from sklearn.model_selection import train_test_split\n",
        "from sklearn.linear_model import LinearRegression\n",
        "from sklearn.metrics import mean_squared_error\n",
        "\n",
        "def perform_ml_analysis(df, target_col, feature_cols):\n",
        "    X = df[feature_cols]\n",
        "    y = df[target_col]\n",
        "\n",
        "    X_train, X_test, y_train, y_test = train_test_split(X, y, test_size=0.2, random_state=42)\n",
        "\n",
        "    model = LinearRegression()\n",
        "    model.fit(X_train, y_train)\n",
        "\n",
        "    y_pred = model.predict(X_test)\n",
        "    mse = mean_squared_error(y_test, y_pred)\n",
        "\n",
        "    print(\"Mean Squared Error:\", mse)\n",
        "    return model\n",
        "\n",
        "# Example: Perform ML analysis for Google Ads data\n",
        "googleads1_df = datasets1['googleads-performance.csv']\n",
        "model = perform_ml_analysis(googleads1_df, 'Conversions', ['Impressions', 'Clicks', 'Cost'])\n"
      ],
      "metadata": {
        "colab": {
          "base_uri": "https://localhost:8080/"
        },
        "id": "4OkQ7MWkHuwN",
        "outputId": "59cef2b5-da9f-400a-bc0a-331bd3436275"
      },
      "execution_count": 13,
      "outputs": [
        {
          "output_type": "stream",
          "name": "stdout",
          "text": [
            "Mean Squared Error: 76.63962585503431\n"
          ]
        }
      ]
    },
    {
      "cell_type": "markdown",
      "source": [
        "### Budget Allocation Algorithm"
      ],
      "metadata": {
        "id": "cL--tGMpIYqU"
      }
    },
    {
      "cell_type": "code",
      "source": [
        "def allocate_budget(total_budget, predictions):\n",
        "    allocation = {}\n",
        "    min_budget = total_budget * 0.10\n",
        "    remaining_budget = total_budget - (len(predictions) * min_budget)\n",
        "\n",
        "    for channel, predicted_conversions in predictions.items():\n",
        "        allocation[channel] = min_budget + (predicted_conversions / sum(predictions.values()) * remaining_budget)\n",
        "\n",
        "    return allocation\n",
        "\n",
        "# Example: Predictions (placeholder values)\n",
        "predictions = {\n",
        "    'google': 150,\n",
        "    'meta': 100,\n",
        "    'microsoft': 80,\n",
        "    'website': 70\n",
        "}\n",
        "\n",
        "total_budget = 200000\n",
        "budget_allocation = allocate_budget(total_budget, predictions)\n",
        "print(\"Budget Allocation:\", budget_allocation)\n"
      ],
      "metadata": {
        "colab": {
          "base_uri": "https://localhost:8080/"
        },
        "id": "pJVgO58hHw4J",
        "outputId": "36bb1c93-fd1c-4058-da26-81e2afff2aa1"
      },
      "execution_count": 14,
      "outputs": [
        {
          "output_type": "stream",
          "name": "stdout",
          "text": [
            "Budget Allocation: {'google': 65000.0, 'meta': 50000.0, 'microsoft': 44000.0, 'website': 41000.0}\n"
          ]
        }
      ]
    },
    {
      "cell_type": "markdown",
      "source": [
        "### Save budget allocation to a CSV file in Google Drive"
      ],
      "metadata": {
        "id": "49byjl56LjkF"
      }
    },
    {
      "cell_type": "code",
      "source": [
        "\n",
        "budget_allocation_df = pd.DataFrame(list(budget_allocation.items()), columns=['Channel', 'Allocated Budget'])\n",
        "output_path = '/content/drive/My Drive/NetelixirDatasets/budget_allocation.csv'\n",
        "budget_allocation_df.to_csv(output_path, index=False)\n",
        "\n",
        "print(f\"Budget allocation saved to {output_path}\")\n"
      ],
      "metadata": {
        "colab": {
          "base_uri": "https://localhost:8080/"
        },
        "id": "XyUVYkFgLh1y",
        "outputId": "90617721-58b5-4413-bf4d-1ec4c904dd56"
      },
      "execution_count": 15,
      "outputs": [
        {
          "output_type": "stream",
          "name": "stdout",
          "text": [
            "Budget allocation saved to /content/drive/My Drive/NetelixirDatasets/budget_allocation.csv\n"
          ]
        }
      ]
    }
  ]
}