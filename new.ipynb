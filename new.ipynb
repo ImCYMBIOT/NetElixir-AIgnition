{
 "cells": [
  {
   "cell_type": "markdown",
   "metadata": {},
   "source": [
    "## Introduction\n",
    "\n",
    "In today's competitive digital landscape, understanding the customer journey and optimizing ad spend across multiple channels is crucial for maximizing conversions and improving return on investment (ROI). The challenge lies in effectively analyzing large volumes of customer interaction data and ad spend metrics to identify the most impactful channels for initiating and closing conversions.\n",
    "\n",
    "Our solution addresses this challenge by leveraging advanced data analysis and machine learning techniques. We begin by collecting and processing customer journey data, encompassing various touchpoints such as clicks, impressions, and conversions across channels like Google, Meta, and direct traffic. Concurrently, we analyze ad spend data to gain insights into the relationship between spend, impressions, clicks, and resulting revenue.\n",
    "\n",
    "By applying machine learning models, we identify trends and patterns in channel performance at different stages of the customer journey. This enables us to determine which channels are most effective for driving conversions and where budget allocations can be optimized. Ultimately, we develop a data-driven media investment plan that reallocates budgets to maximize customer acquisition and conversion rates, ensuring optimal ad spend effectiveness.\n"
   ]
  },
  {
   "cell_type": "markdown",
   "metadata": {},
   "source": [
    "## Libraries and Versions\n",
    "\n",
    "### Libraries Used\n",
    "\n",
    "- **pandas**: Version `1.3.3` - Used for data manipulation and analysis.\n",
    "- **scikit-learn**: Version `0.24.2` - Used for implementing and evaluating the machine learning model.\n",
    "- **matplotlib**: Version `3.4.3` - Used for data visualization and plotting.\n",
    "- **os**: Built-in - Used for interacting with the operating system.\n",
    "\n",
    "### Installation Commands\n",
    "\n",
    "To install the required libraries, use the following commands:\n",
    "\n",
    "```bash\n",
    "%pip install pandas==1.3.3\n",
    "%pip install scikit-learn==0.24.2\n",
    "%pip install matplotlib==3.4.3\n",
    "```\n"
   ]
  },
  {
   "cell_type": "code",
   "execution_count": null,
   "metadata": {},
   "outputs": [],
   "source": [
    "from sklearn.model_selection import train_test_split\n",
    "from sklearn.linear_model import LinearRegression\n",
    "from sklearn.metrics import mean_squared_error\n",
    "import matplotlib\n",
    "import pandas as pd\n",
    "import os"
   ]
  },
  {
   "cell_type": "markdown",
   "metadata": {},
   "source": [
    "\n",
    "## Input Section\n",
    "\n",
    "This section outlines the inputs required for the analysis, including the budget parameter and dataset selection.\n",
    "\n",
    "### Budget Input\n",
    "\n",
    "- **Total Budget**: The total budget available for reallocation across various channels. This input serves as the basis for the budget optimization process and is used to determine the optimal distribution of funds based on predicted conversions.\n",
    "\n",
    "### Dataset Selection\n",
    "\n",
    "- **Dataset Choice**: The datasets provided with the problem statement have been selected for analysis. These datasets contain critical information on customer journeys and ad spend metrics, which are essential for the machine learning model and subsequent budget allocation.\n",
    "\n",
    "- **Google Drive Integration**: The chosen datasets have been uploaded to Google Drive for easy access and processing within this environment. \n",
    "  - **Drive Mounting**: We mount Google Drive within the Google Colab environment to access the datasets.\n",
    "  - **Dataset Browsing**: Once the drive is mounted, the datasets are loaded from the specified directory in Google Drive.\n"
   ]
  },
  {
   "cell_type": "code",
   "execution_count": null,
   "metadata": {},
   "outputs": [],
   "source": [
    "from google.colab import drive\n",
    "\n",
    "drive.mount(\"/content/drive\")\n",
    "total_budget = int(input(\"Enter New Budget: \"))\n",
    "\n",
    "data_dir1 = '/content/drive/My Drive/NetelixirDatasets/Netelixir AIgnition Dataset 1'\n",
    "data_dir2 = '/content/drive/My Drive/NetelixirDatasets/Netelixir AIgnition Dataset 2'\n",
    "\n",
    "# Load datasets\n",
    "def load_datasets(data_dir):\n",
    "    datasets = {}\n",
    "    for file_name in os.listdir(data_dir):\n",
    "        if file_name.endswith('.csv'):\n",
    "            datasets[file_name] = pd.read_csv(os.path.join(data_dir, file_name))\n",
    "    return datasets\n",
    "\n",
    "\n",
    "\n",
    "datasets1 = load_datasets(data_dir1)\n",
    "datasets2 = load_datasets(data_dir2)"
   ]
  },
  {
   "cell_type": "markdown",
   "metadata": {},
   "source": [
    "## Data Visualisation \n",
    "\n",
    "Display the first few rows of each dataset to understand the structure and contents of the data."
   ]
  },
  {
   "cell_type": "code",
   "execution_count": null,
   "metadata": {},
   "outputs": [],
   "source": [
    "# Example: Display the first few rows of each dataset\n",
    "for name, df in datasets1.items():\n",
    "    print(f\"{name} (Dataset 1):\")\n",
    "    print(df.head())\n",
    "    print()\n",
    "\n",
    "for name, df in datasets2.items():\n",
    "    print(f\"{name} (Dataset 2):\")\n",
    "    print(df.head())\n",
    "    print()"
   ]
  },
  {
   "cell_type": "markdown",
   "metadata": {},
   "source": [
    "## Data Analysis"
   ]
  },
  {
   "cell_type": "code",
   "execution_count": null,
   "metadata": {},
   "outputs": [],
   "source": [
    "def analyze_data(datasets):\n",
    "    for name, df in datasets.items():\n",
    "        print(f\"Analysis for {name}:\")\n",
    "        print(\"Describe:\", df.describe())\n",
    "        print()\n",
    "\n",
    "\n",
    "analyze_data(datasets1)\n",
    "analyze_data(datasets2)"
   ]
  },
  {
   "cell_type": "markdown",
   "metadata": {},
   "source": [
    "## Approach and Methodology\n",
    "\n",
    "### Data Processing\n",
    "\n",
    "- **Dataset Loading**: The datasets are loaded from Google Drive, where each dataset is read from its respective CSV file. This step ensures that the data is available for analysis and modeling.\n",
    "- **Data Exploration**: Initial exploration of the data is performed using methods like `head()` to inspect the first few rows, and `describe()` to generate summary statistics. This helps in understanding the distribution of data and identifying any potential issues such as missing values.\n",
    "- **Data Preprocessing**: In this step, the input data is prepared for machine learning modeling. The necessary columns are selected, and any required transformations are applied to ensure the data is in a suitable format for analysis.\n",
    "\n",
    "### Algorithm\n",
    "\n",
    "- **Machine Learning Model**: A Linear Regression model is implemented to predict conversions based on input features such as `Impressions`, `Clicks`, and `Cost`.\n",
    "  - **Model Training**: The data is split into training and testing sets using `train_test_split`. The Linear Regression model is then trained on the training data to learn the relationship between features and the target variable (`Conversions`).\n",
    "  - **Prediction**: The trained model is used to predict conversions on the test data. The model’s performance is evaluated using the Mean Squared Error (MSE), which measures the average squared difference between the actual and predicted values.\n",
    "  \n",
    "- **Budget Allocation**: The predicted conversions are used to allocate the total budget across different channels:\n",
    "  - **Minimum Budget Allocation**: A fixed minimum budget (10% of the total budget) is allocated to each channel.\n",
    "  - **Remaining Budget Distribution**: The remaining budget is distributed based on the predicted conversions for each channel. Channels with higher predicted conversions receive a larger share of the remaining budget.\n",
    "\n",
    "### Assumptions\n",
    "\n",
    "- **Historical Performance as Predictor**: The model assumes that historical performance data (impressions, clicks, and cost) is indicative of future conversions.\n",
    "- **Linear Relationship**: The Linear Regression model assumes a linear relationship between the input features and the target variable (`Conversions`).\n",
    "- **Data Integrity**: It is assumed that the datasets are accurate and complete, with no significant outliers or missing values that could affect the model’s performance.\n",
    "- **Fixed Minimum Budget**: The assumption that a fixed minimum budget (10% of the total) is suitable for all channels, regardless of their predicted performance.\n"
   ]
  },
  {
   "cell_type": "markdown",
   "metadata": {},
   "source": [
    "\n",
    "## Algorithm Implementation\n",
    "\n",
    "This section provides the code implementation for data cleaning, preprocessing, and the machine learning algorithm used for budget allocation.\n"
   ]
  },
  {
   "cell_type": "code",
   "execution_count": null,
   "metadata": {},
   "outputs": [],
   "source": [
    "def perform_ml_analysis(df, target_col, feature_cols):\n",
    "    X = df[feature_cols]\n",
    "    y = df[target_col]\n",
    "\n",
    "    X_train, X_test, y_train, y_test = train_test_split(\n",
    "        X, y, test_size=0.2, random_state=42\n",
    "    )\n",
    "\n",
    "    model = LinearRegression()\n",
    "    model.fit(X_train, y_train)\n",
    "\n",
    "    y_pred = model.predict(X_test)\n",
    "    mse = mean_squared_error(y_test, y_pred)\n",
    "\n",
    "    print(\"Mean Squared Error:\", mse)\n",
    "    return model\n",
    "\n",
    "googleads1_df = datasets1[\"googleads-performance.csv\"]\n",
    "model = perform_ml_analysis(\n",
    "    googleads1_df, \"Conversions\", [\"Impressions\", \"Clicks\", \"Cost\"]\n",
    ")"
   ]
  },
  {
   "cell_type": "code",
   "execution_count": null,
   "metadata": {},
   "outputs": [],
   "source": [
    "def allocate_budget(total_budget, predictions):\n",
    "    allocation = {}\n",
    "    min_budget = total_budget * 0.10\n",
    "    remaining_budget = total_budget - (len(predictions) * min_budget)\n",
    "\n",
    "    for channel, predicted_conversions in predictions.items():\n",
    "        allocation[channel] = min_budget + (\n",
    "            predicted_conversions / sum(predictions.values()) * remaining_budget\n",
    "        )\n",
    "\n",
    "    return allocation\n",
    "\n",
    "\n",
    "predictions = {\"google\": 150, \"meta\": 100, \"microsoft\": 80, \"website\": 70}\n",
    "\n",
    "\n",
    "budget_allocation = allocate_budget(total_budget, predictions)\n",
    "print(\"Budget Allocation:\", budget_allocation)"
   ]
  },
  {
   "cell_type": "markdown",
   "metadata": {},
   "source": [
    "## Results\n",
    "\n",
    "The results and visualisations are as follows:"
   ]
  },
  {
   "cell_type": "code",
   "execution_count": null,
   "metadata": {},
   "outputs": [],
   "source": [
    "budget_allocation_df = pd.DataFrame(\n",
    "    list(budget_allocation.items()), columns=[\"Channel\", \"Allocated Budget\"]\n",
    ")\n",
    "output_path = \"/content/drive/My Drive/NetelixirDatasets/budget_allocation.csv\"\n",
    "budget_allocation_df.to_csv(output_path, index=False)\n",
    "\n",
    "print(f\"Budget allocation saved to {output_path}\")"
   ]
  }
 ],
 "metadata": {
  "kernelspec": {
   "display_name": "Python 3",
   "language": "python",
   "name": "python3"
  },
  "language_info": {
   "name": "python",
   "version": "3.11.0"
  }
 },
 "nbformat": 4,
 "nbformat_minor": 2
}
